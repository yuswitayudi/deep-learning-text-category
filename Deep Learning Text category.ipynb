{
 "cells": [
  {
   "source": [
    "Deep Learning Text-category\n",
    "\n",
    "Keterangan :\n",
    "- Film (1)\n",
    "- Olahraga (2)\n",
    "- Makanan (3)\n",
    "- Hewan (4)\n",
    "- Otomotif (5)"
   ],
   "cell_type": "markdown",
   "metadata": {}
  },
  {
   "cell_type": "code",
   "execution_count": 21,
   "metadata": {},
   "outputs": [],
   "source": [
    "import numpy as np\n",
    "import tensorflow as tf\n",
    "from tensorflow import keras\n",
    "from tensorflow.keras.layers import Dense\n",
    "from tensorflow.keras.models import Sequential\n",
    "from sklearn import preprocessing\n",
    "from sklearn.model_selection import train_test_split\n",
    "\n"
   ]
  },
  {
   "cell_type": "code",
   "execution_count": 22,
   "metadata": {
    "tags": []
   },
   "outputs": [],
   "source": [
    "words = [\n",
    "    \"avengers adalah film produksi marvel\",\n",
    "    \"batman adalah film produksi dc\",\n",
    "    \"spiderman adalah film superhero marvel\",\n",
    "    \"superman adalah film superhero dc\",\n",
    "    \"pixar memproduksi film animasi lucu\",\n",
    "    \"barcelona memiliki pemain yang hebat\",\n",
    "    \"barcelona adalah club dari spanyol\",\n",
    "    \"juventus adalah club besar italia\",\n",
    "    \"ronaldo adalah pemain terbaik 2009\",\n",
    "    \"ronaldo adalah pemain kunci juventus\",\n",
    "    \"nasi padang berasal dari padang\",\n",
    "    \"nasi goreng ini enak sekali\",\n",
    "    \"pizza adalah makanan dari italia\",\n",
    "    \"gudeg adalah makanan khas jogja\",\n",
    "    \"magelangan makanan mirip nasi goreng\",\n",
    "    \"kucing adalah hewan peliharaan lucu\",\n",
    "    \"kucing senang bermain dengan tali\",\n",
    "    \"jerapah adalah hewan liar herbivora\",\n",
    "    \"jerapah memiliki leher yang panjang\",\n",
    "    \"macan adalah hewan mirip kucing\",\n",
    "    \"nissan sylvia adalah mobil jdm\",\n",
    "    \"vario adalah motor dari honda\",\n",
    "    \"nmax adalah motor dari yamaha\",\n",
    "    \"mobil ignis adalah mobil jdm\",\n",
    "    \"lamborgini mobil cepat dan mahal\"\n",
    "]\n",
    "\n",
    "label = [[1,0,0,0,0], [1,0,0,0,0], [1,0,0,0,0], [1,0,0,0,0], [1,0,0,0,0], [0,1,0,0,0], [0,1,0,0,0], [0,1,0,0,0], [0,1,0,0,0], [0,1,0,0,0], [0,0,1,0,0], [0,0,1,0,0], [0,0,1,0,0], [0,0,1,0,0], [0,0,1,0,0], [0,0,0,1,0], [0,0,0,1,0], [0,0,0,1,0], [0,0,0,1,0], [0,0,0,1,0], [0,0,0,0,1], [0,0,0,0,1], [0,0,0,0,1], [0,0,0,0,1], [0,0,0,0,1]]"
   ]
  },
  {
   "source": [
    "# Label\n",
    "FILM (1,0,0,0,0)\n",
    "\n",
    "OLAHRAGA (0,1,0,0,0)\n",
    "\n",
    "MANAKAN (0,0,1,0,0)\n",
    "\n",
    "HEWAN (0,0,0,1,0)\n",
    "\n",
    "OTOMOTIF (0,0,0,0,1)"
   ],
   "cell_type": "markdown",
   "metadata": {}
  },
  {
   "cell_type": "code",
   "execution_count": 23,
   "metadata": {},
   "outputs": [],
   "source": [
    "from tensorflow.keras.preprocessing.text import Tokenizer"
   ]
  },
  {
   "cell_type": "code",
   "execution_count": 24,
   "metadata": {},
   "outputs": [
    {
     "output_type": "execute_result",
     "data": {
      "text/plain": [
       "[['avengers', 'adalah', 'film', 'produksi', 'marvel'],\n",
       " ['batman', 'adalah', 'film', 'produksi', 'dc'],\n",
       " ['spiderman', 'adalah', 'film', 'superhero', 'marvel'],\n",
       " ['superman', 'adalah', 'film', 'superhero', 'dc'],\n",
       " ['pixar', 'memproduksi', 'film', 'animasi', 'lucu'],\n",
       " ['barcelona', 'memiliki', 'pemain', 'yang', 'hebat'],\n",
       " ['barcelona', 'adalah', 'club', 'dari', 'spanyol'],\n",
       " ['juventus', 'adalah', 'club', 'besar', 'italia'],\n",
       " ['ronaldo', 'adalah', 'pemain', 'terbaik', '2009'],\n",
       " ['ronaldo', 'adalah', 'pemain', 'kunci', 'juventus'],\n",
       " ['nasi', 'padang', 'berasal', 'dari', 'padang'],\n",
       " ['nasi', 'goreng', 'ini', 'enak', 'sekali'],\n",
       " ['pizza', 'adalah', 'makanan', 'dari', 'italia'],\n",
       " ['gudeg', 'adalah', 'makanan', 'khas', 'jogja'],\n",
       " ['magelangan', 'makanan', 'mirip', 'nasi', 'goreng'],\n",
       " ['kucing', 'adalah', 'hewan', 'peliharaan', 'lucu'],\n",
       " ['kucing', 'senang', 'bermain', 'dengan', 'tali'],\n",
       " ['jerapah', 'adalah', 'hewan', 'liar', 'herbivora'],\n",
       " ['jerapah', 'memiliki', 'leher', 'yang', 'panjang'],\n",
       " ['macan', 'adalah', 'hewan', 'mirip', 'kucing'],\n",
       " ['nissan', 'sylvia', 'adalah', 'mobil', 'jdm'],\n",
       " ['vario', 'adalah', 'motor', 'dari', 'honda'],\n",
       " ['nmax', 'adalah', 'motor', 'dari', 'yamaha'],\n",
       " ['mobil', 'ignis', 'adalah', 'mobil', 'jdm'],\n",
       " ['lamborgini', 'mobil', 'cepat', 'dan', 'mahal']]"
      ]
     },
     "metadata": {},
     "execution_count": 24
    }
   ],
   "source": [
    "words_splited = [word.split(\" \") for word in words]\n",
    "words_splited"
   ]
  },
  {
   "cell_type": "code",
   "execution_count": 25,
   "metadata": {},
   "outputs": [],
   "source": [
    "tzer = Tokenizer()\n",
    "tzer.fit_on_texts(words_splited)"
   ]
  },
  {
   "cell_type": "code",
   "execution_count": 26,
   "metadata": {},
   "outputs": [
    {
     "output_type": "execute_result",
     "data": {
      "text/plain": [
       "[[28, 1, 2, 10, 11],\n",
       " [29, 1, 2, 10, 12],\n",
       " [30, 1, 2, 13, 11],\n",
       " [31, 1, 2, 13, 12],\n",
       " [32, 33, 2, 34, 14],\n",
       " [15, 16, 5, 17, 35],\n",
       " [15, 1, 18, 3, 36],\n",
       " [19, 1, 18, 37, 20],\n",
       " [21, 1, 5, 38, 39],\n",
       " [21, 1, 5, 40, 19],\n",
       " [6, 22, 41, 3, 22],\n",
       " [6, 23, 42, 43, 44],\n",
       " [45, 1, 7, 3, 20],\n",
       " [46, 1, 7, 47, 48],\n",
       " [49, 7, 24, 6, 23],\n",
       " [8, 1, 9, 50, 14],\n",
       " [8, 51, 52, 53, 54],\n",
       " [25, 1, 9, 55, 56],\n",
       " [25, 16, 57, 17, 58],\n",
       " [59, 1, 9, 24, 8],\n",
       " [60, 61, 1, 4, 26],\n",
       " [62, 1, 27, 3, 63],\n",
       " [64, 1, 27, 3, 65],\n",
       " [4, 66, 1, 4, 26],\n",
       " [67, 4, 68, 69, 70]]"
      ]
     },
     "metadata": {},
     "execution_count": 26
    }
   ],
   "source": [
    "words_tokenized=tzer.texts_to_sequences(words_splited)\n",
    "words_tokenized"
   ]
  },
  {
   "cell_type": "code",
   "execution_count": 27,
   "metadata": {},
   "outputs": [
    {
     "output_type": "execute_result",
     "data": {
      "text/plain": [
       "['jerapah memiliki leher yang panjang']"
      ]
     },
     "metadata": {},
     "execution_count": 27
    }
   ],
   "source": [
    "tzer.sequences_to_texts([[25, 16, 57, 17, 58]])"
   ]
  },
  {
   "cell_type": "code",
   "execution_count": 28,
   "metadata": {
    "tags": []
   },
   "outputs": [
    {
     "output_type": "stream",
     "name": "stdout",
     "text": [
      "[[28.  1.  2. 10. 11.]\n [29.  1.  2. 10. 12.]\n [30.  1.  2. 13. 11.]\n [31.  1.  2. 13. 12.]\n [32. 33.  2. 34. 14.]\n [15. 16.  5. 17. 35.]\n [15.  1. 18.  3. 36.]\n [19.  1. 18. 37. 20.]\n [21.  1.  5. 38. 39.]\n [21.  1.  5. 40. 19.]\n [ 6. 22. 41.  3. 22.]\n [ 6. 23. 42. 43. 44.]\n [45.  1.  7.  3. 20.]\n [46.  1.  7. 47. 48.]\n [49.  7. 24.  6. 23.]\n [ 8.  1.  9. 50. 14.]\n [ 8. 51. 52. 53. 54.]\n [25.  1.  9. 55. 56.]\n [25. 16. 57. 17. 58.]\n [59.  1.  9. 24.  8.]\n [60. 61.  1.  4. 26.]\n [62.  1. 27.  3. 63.]\n [64.  1. 27.  3. 65.]\n [ 4. 66.  1.  4. 26.]\n [67.  4. 68. 69. 70.]] [[1 0 0 0 0]\n [1 0 0 0 0]\n [1 0 0 0 0]\n [1 0 0 0 0]\n [1 0 0 0 0]\n [0 1 0 0 0]\n [0 1 0 0 0]\n [0 1 0 0 0]\n [0 1 0 0 0]\n [0 1 0 0 0]\n [0 0 1 0 0]\n [0 0 1 0 0]\n [0 0 1 0 0]\n [0 0 1 0 0]\n [0 0 1 0 0]\n [0 0 0 1 0]\n [0 0 0 1 0]\n [0 0 0 1 0]\n [0 0 0 1 0]\n [0 0 0 1 0]\n [0 0 0 0 1]\n [0 0 0 0 1]\n [0 0 0 0 1]\n [0 0 0 0 1]\n [0 0 0 0 1]]\n"
     ]
    }
   ],
   "source": [
    "X = []\n",
    "y = np.array(label)\n",
    "for wt in words_tokenized:\n",
    "    ph = np.zeros(5)\n",
    "    ph[:len(wt)] = wt\n",
    "    X.append(ph)\n",
    "X = np.array(X)\n",
    "\n",
    "print(X, y)\n",
    "\n"
   ]
  },
  {
   "cell_type": "code",
   "execution_count": 29,
   "metadata": {},
   "outputs": [
    {
     "output_type": "execute_result",
     "data": {
      "text/plain": [
       "((25, 5), (25, 5))"
      ]
     },
     "metadata": {},
     "execution_count": 29
    }
   ],
   "source": [
    "X.shape, y.shape"
   ]
  },
  {
   "cell_type": "markdown",
   "metadata": {},
   "source": [
    "## Buat Model"
   ]
  },
  {
   "cell_type": "code",
   "execution_count": 30,
   "metadata": {},
   "outputs": [],
   "source": [
    "# model = Sequential()\n",
    "# model.add(Dense(10, activation=\"relu\", input_shape=(5,)))\n",
    "# model.add(Dense(5, activation=\"relu\"))\n",
    "# model.add(Dense(1, activation=\"sigmoid\"))\n",
    "\n",
    "model = Sequential()\n",
    "model.add(Dense(25, input_dim=5, kernel_initializer='he_uniform', activation='relu'))\n",
    "model.add(Dense(17, activation=\"relu\"))\n",
    "# model.add(Dense(9, activation=\"softmax\"))\n",
    "model.add(Dense(5, activation='sigmoid'))\n",
    "model.compile(loss='binary_crossentropy', optimizer='adam')"
   ]
  },
  {
   "cell_type": "code",
   "execution_count": 31,
   "metadata": {
    "tags": []
   },
   "outputs": [
    {
     "output_type": "stream",
     "name": "stdout",
     "text": [
      "Model: \"sequential_1\"\n_________________________________________________________________\nLayer (type)                 Output Shape              Param #   \n=================================================================\ndense_3 (Dense)              (None, 25)                150       \n_________________________________________________________________\ndense_4 (Dense)              (None, 17)                442       \n_________________________________________________________________\ndense_5 (Dense)              (None, 5)                 90        \n=================================================================\nTotal params: 682\nTrainable params: 682\nNon-trainable params: 0\n_________________________________________________________________\n"
     ]
    }
   ],
   "source": [
    "model.summary()"
   ]
  },
  {
   "cell_type": "code",
   "execution_count": 32,
   "metadata": {},
   "outputs": [
    {
     "output_type": "execute_result",
     "data": {
      "image/png": "[encoded data removed]",
      "text/plain": [
       "<IPython.core.display.Image object>"
      ]
     },
     "metadata": {},
     "execution_count": 32
    }
   ],
   "source": [
    "keras.utils.plot_model(model, show_shapes=True, show_layer_names=True, expand_nested=True)"
   ]
  },
  {
   "cell_type": "code",
   "execution_count": 33,
   "metadata": {
    "tags": []
   },
   "outputs": [
    {
     "output_type": "stream",
     "name": "stdout",
     "text": [
      "1/1 [==============================] - 0s 2ms/step - loss: 0.0684\n"
     ]
    },
    {
     "output_type": "execute_result",
     "data": {
      "text/plain": [
       "0.06838006526231766"
      ]
     },
     "metadata": {},
     "execution_count": 33
    }
   ],
   "source": [
    "\n",
    "model.fit(X, y, verbose=0, batch_size=5, epochs=200)\n",
    "\n",
    "model.evaluate(X, y)\n"
   ]
  },
  {
   "cell_type": "code",
   "execution_count": 34,
   "metadata": {},
   "outputs": [],
   "source": [
    "lb = preprocessing.LabelBinarizer()\n",
    "hasil = lb.fit(['film', 'olahraga', 'makanan', 'hewan', 'otomotif'])"
   ]
  },
  {
   "cell_type": "code",
   "execution_count": 35,
   "metadata": {
    "tags": []
   },
   "outputs": [
    {
     "output_type": "execute_result",
     "data": {
      "text/plain": [
       "array(['olahraga'], dtype='<U8')"
      ]
     },
     "metadata": {},
     "execution_count": 35
    }
   ],
   "source": [
    "yhat = model.predict(tzer.texts_to_sequences([\"macan adalah hewan mirip kucing\".split(\" \")]))\n",
    "yhat\n",
    "np.round(yhat)[0]\n",
    "yhat = lb.inverse_transform(yhat, threshold=None)\n",
    "yhat"
   ]
  },
  {
   "cell_type": "code",
   "execution_count": 36,
   "metadata": {},
   "outputs": [
    {
     "output_type": "execute_result",
     "data": {
      "text/plain": [
       "array(['otomotif'], dtype='<U8')"
      ]
     },
     "metadata": {},
     "execution_count": 36
    }
   ],
   "source": [
    "yhat = model.predict(tzer.texts_to_sequences([\"mobil ignis adalah mobil jdm\".split(\" \")]))\n",
    "yhat\n",
    "np.round(yhat)[0]\n",
    "yhat = lb.inverse_transform(yhat, threshold=None)\n",
    "yhat"
   ]
  },
  {
   "source": [
    "# Label\n",
    "FILM (1,0,0,0,0)\n",
    "\n",
    "OLAHRAGA (0,1,0,0,0)\n",
    "\n",
    "MANAKAN (0,0,1,0,0)\n",
    "\n",
    "HEWAN (0,0,0,1,0)\n",
    "\n",
    "OTOMOTIF (0,0,0,0,1)"
   ],
   "cell_type": "markdown",
   "metadata": {}
  }
 ],
 "metadata": {
  "kernelspec": {
   "name": "python3",
   "display_name": "Python 3.7.7 64-bit",
   "metadata": {
    "interpreter": {
     "hash": "760998f634eda20c905bbb34b5ef6257bbcec1306c55dd0a9710f5e890cfb4e0"
    }
   }
  },
  "language_info": {
   "codemirror_mode": {
    "name": "ipython",
    "version": 3
   },
   "file_extension": ".py",
   "mimetype": "text/x-python",
   "name": "python",
   "nbconvert_exporter": "python",
   "pygments_lexer": "ipython3",
   "version": "3.7.7-final"
  }
 },
 "nbformat": 4,
 "nbformat_minor": 4
}